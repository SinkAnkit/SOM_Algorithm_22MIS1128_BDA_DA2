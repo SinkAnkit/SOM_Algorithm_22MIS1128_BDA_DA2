{
  "cells": [
    {
      "cell_type": "code",
      "execution_count": null,
      "metadata": {
        "vscode": {
          "languageId": "markdown"
        },
        "id": "0C7GTLgC-u1U",
        "outputId": "e51386aa-5e22-4d3a-ecc5-7c03dbe3c297"
      },
      "outputs": [
        {
          "ename": "SyntaxError",
          "evalue": "invalid decimal literal (46800023.py, line 3)",
          "output_type": "error",
          "traceback": [
            "\u001b[1;36m  Cell \u001b[1;32mIn[5], line 3\u001b[1;36m\u001b[0m\n\u001b[1;33m    Self Organizing Maps (SOMs) are a type of artificial neural network used for unsupervised learning. They are particularly useful for visualizing high-dimensional data by projecting it onto a lower-dimensional (usually 2D) grid. SOMs are used in various applications such as clustering, data visualization, and anomaly detection.\u001b[0m\n\u001b[1;37m                                                                                                                                                                                                                              ^\u001b[0m\n\u001b[1;31mSyntaxError\u001b[0m\u001b[1;31m:\u001b[0m invalid decimal literal\n"
          ]
        }
      ],
      "source": [
        "## Introduction to Self Organizing Maps (SOMs)\n",
        "\n",
        "Self Organizing Maps (SOMs) are a type of artificial neural network used for unsupervised learning. They are particularly useful for visualizing high-dimensional data by projecting it onto a lower-dimensional (usually 2D) grid. SOMs are used in various applications such as clustering, data visualization, and anomaly detection.\n",
        "\n",
        "In this notebook, we will use SOMs to identify potential frauds in a dataset of credit card applications."
      ]
    },
    {
      "cell_type": "markdown",
      "metadata": {
        "id": "t9oX7AL3nyLm"
      },
      "source": [
        "#Self Organizing Map"
      ]
    },
    {
      "cell_type": "markdown",
      "metadata": {
        "id": "r9maNhdd65pB"
      },
      "source": [
        "##Install MiniSom Package"
      ]
    },
    {
      "cell_type": "code",
      "execution_count": 2,
      "metadata": {
        "colab": {
          "base_uri": "https://localhost:8080/"
        },
        "id": "1KB28WUso0Bj",
        "outputId": "e4bb5588-27a4-4a7e-f31b-53c08623ed1e"
      },
      "outputs": [
        {
          "output_type": "stream",
          "name": "stdout",
          "text": [
            "Collecting MiniSom\n",
            "  Downloading MiniSom-2.3.3.tar.gz (11 kB)\n",
            "  Preparing metadata (setup.py) ... \u001b[?25l\u001b[?25hdone\n",
            "Building wheels for collected packages: MiniSom\n",
            "  Building wheel for MiniSom (setup.py) ... \u001b[?25l\u001b[?25hdone\n",
            "  Created wheel for MiniSom: filename=MiniSom-2.3.3-py3-none-any.whl size=11706 sha256=0685aae91bdd4e68bbbcad461a10da2a6bbea7997318d52f271c85e93b102e0a\n",
            "  Stored in directory: /root/.cache/pip/wheels/96/98/a5/52dee3e8ed1dbfc4d77e4da41b6d89dd7ab9ead1b921e766f8\n",
            "Successfully built MiniSom\n",
            "Installing collected packages: MiniSom\n",
            "Successfully installed MiniSom-2.3.3\n"
          ]
        }
      ],
      "source": [
        "!pip install MiniSom"
      ]
    },
    {
      "cell_type": "code",
      "execution_count": 4,
      "metadata": {
        "colab": {
          "base_uri": "https://localhost:8080/"
        },
        "id": "mp3xLbKr-u1Y",
        "outputId": "25d3993f-56bb-460f-fad8-fd39614b3629"
      },
      "outputs": [
        {
          "output_type": "stream",
          "name": "stdout",
          "text": [
            "Requirement already satisfied: tqdm in /usr/local/lib/python3.10/dist-packages (4.66.5)\n"
          ]
        }
      ],
      "source": [
        "!pip install tqdm"
      ]
    },
    {
      "cell_type": "markdown",
      "metadata": {
        "id": "6AX0Y23PnyOI"
      },
      "source": [
        "### Importing the libraries\n"
      ]
    },
    {
      "cell_type": "code",
      "execution_count": 5,
      "metadata": {
        "id": "gaSkOFKKBB3b"
      },
      "outputs": [],
      "source": [
        "import numpy as np\n",
        "import pandas as pd\n",
        "import matplotlib.pyplot as pltz"
      ]
    },
    {
      "cell_type": "markdown",
      "metadata": {
        "id": "SCl7ERn_n539"
      },
      "source": [
        "## Importing the dataset"
      ]
    },
    {
      "cell_type": "code",
      "execution_count": 12,
      "metadata": {
        "id": "4hgeaN3CoRfl"
      },
      "outputs": [],
      "source": [
        "import pandas as pd\n",
        "# Ensure the correct file name and path\n",
        "dataset = pd.read_csv('Credit_Card_Applications_Datasets.csv')\n",
        "# Or specify the complete file path if it's in a different directory.\n",
        "# For example:\n",
        "# dataset = pd.read_csv('/path/to/your/file/Credit_Card_Applications_Datasets.csv')\n",
        "X = dataset.iloc[:, :-1].values\n",
        "y = dataset.iloc[:, -1].values"
      ]
    },
    {
      "cell_type": "markdown",
      "metadata": {
        "id": "fYHJ0dd6n-d4"
      },
      "source": [
        "## Feature Scaling\n"
      ]
    },
    {
      "cell_type": "code",
      "execution_count": 13,
      "metadata": {
        "id": "sY7JiUxwoSOd"
      },
      "outputs": [],
      "source": [
        "from sklearn.preprocessing import MinMaxScaler\n",
        "sc = MinMaxScaler(feature_range = (0,1))\n",
        "X = sc.fit_transform(X)"
      ]
    },
    {
      "cell_type": "markdown",
      "metadata": {
        "id": "aPp-7wfNoAhR"
      },
      "source": [
        "##Training the SOM\n"
      ]
    },
    {
      "cell_type": "code",
      "execution_count": 14,
      "metadata": {
        "id": "3iuAhM6ooS0k"
      },
      "outputs": [],
      "source": [
        "from minisom import MiniSom\n",
        "som = MiniSom(x=10, y=10, input_len= 15, sigma= 1.0, learning_rate = 0.5)\n",
        "som.random_weights_init(X)\n",
        "som.train_random(data = X, num_iteration = 100)"
      ]
    },
    {
      "cell_type": "markdown",
      "metadata": {
        "id": "YiU27C-ToCnH"
      },
      "source": [
        "##Visualizing the results\n"
      ]
    },
    {
      "cell_type": "code",
      "execution_count": 15,
      "metadata": {
        "colab": {
          "base_uri": "https://localhost:8080/",
          "height": 435
        },
        "id": "XzrIX4fZoTQj",
        "outputId": "8ecbb021-36ff-44e3-d89d-b748a839089d"
      },
      "outputs": [
        {
          "output_type": "display_data",
          "data": {
            "text/plain": [
              "<Figure size 640x480 with 2 Axes>"
            ],
            "image/png": "[encoded data removed]"
          },
          "metadata": {}
        }
      ],
      "source": [
        "from pylab import bone, pcolor, colorbar, plot, show\n",
        "bone()\n",
        "pcolor(som.distance_map().T)\n",
        "colorbar()\n",
        "markers = ['o', 's']\n",
        "colors = ['r', 'g']\n",
        "for i, x in enumerate(X):\n",
        "    w = som.winner(x)\n",
        "    plot(w[0] + 0.5,\n",
        "         w[1] + 0.5,\n",
        "         markers[y[i]],\n",
        "         markeredgecolor = colors[y[i]],\n",
        "         markerfacecolor = 'None',\n",
        "         markersize = 10,\n",
        "         markeredgewidth = 2)\n",
        "show()"
      ]
    },
    {
      "cell_type": "markdown",
      "metadata": {
        "id": "4C-I_jBfoEkP"
      },
      "source": [
        "## Finding the frauds\n"
      ]
    },
    {
      "cell_type": "code",
      "execution_count": 16,
      "metadata": {
        "id": "4xd-jb8doTlM"
      },
      "outputs": [],
      "source": [
        "mappings = som.win_map(X)\n",
        "frauds = np.concatenate((mappings[(1,1)], mappings[(4,1)]), axis = 0)\n",
        "frauds = sc.inverse_transform(frauds)"
      ]
    },
    {
      "cell_type": "markdown",
      "metadata": {
        "id": "frXqAlpo84b1"
      },
      "source": [
        "##Printing the Fraud Clients"
      ]
    },
    {
      "cell_type": "code",
      "execution_count": 17,
      "metadata": {
        "colab": {
          "base_uri": "https://localhost:8080/"
        },
        "id": "54a4NnJo8761",
        "outputId": "415441c4-5c64-459c-daad-f4fe21674be1"
      },
      "outputs": [
        {
          "output_type": "stream",
          "name": "stdout",
          "text": [
            "Fraud Customer IDs\n",
            "15720644\n",
            "15746258\n",
            "15700511\n",
            "15761158\n",
            "15666166\n",
            "15605872\n",
            "15665087\n"
          ]
        }
      ],
      "source": [
        "print('Fraud Customer IDs')\n",
        "for i in frauds[:, 0]:\n",
        "  print(int(i))"
      ]
    }
  ],
  "metadata": {
    "colab": {
      "provenance": []
    },
    "kernelspec": {
      "display_name": "Python 3",
      "name": "python3"
    },
    "language_info": {
      "codemirror_mode": {
        "name": "ipython",
        "version": 3
      },
      "file_extension": ".py",
      "mimetype": "text/x-python",
      "name": "python",
      "nbconvert_exporter": "python",
      "pygments_lexer": "ipython3",
      "version": "3.12.3"
    }
  },
  "nbformat": 4,
  "nbformat_minor": 0
}